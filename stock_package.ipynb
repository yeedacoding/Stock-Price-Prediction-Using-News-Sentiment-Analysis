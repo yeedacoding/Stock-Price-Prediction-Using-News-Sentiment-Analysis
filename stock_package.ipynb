{
 "cells": [
  {
   "cell_type": "code",
   "execution_count": 1,
   "id": "da0459df",
   "metadata": {},
   "outputs": [],
   "source": [
    "import numpy as np\n",
    "import pandas as pd\n",
    "import yfinance as yf\n",
    "from datetime import datetime, timedelta"
   ]
  },
  {
   "cell_type": "code",
   "execution_count": 7,
   "id": "cc6582a3",
   "metadata": {},
   "outputs": [
    {
     "name": "stdout",
     "output_type": "stream",
     "text": [
      "250520\n"
     ]
    }
   ],
   "source": [
    "target_date = '2025-05-20'\n",
    "\n",
    "date_name = target_date.split('-')[0][2:] + target_date.split('-')[1] + target_date.split('-')[2]\n",
    "print(date_name)"
   ]
  },
  {
   "cell_type": "code",
   "execution_count": 9,
   "id": "bd260752",
   "metadata": {},
   "outputs": [
    {
     "name": "stdout",
     "output_type": "stream",
     "text": [
      "354\n"
     ]
    },
    {
     "data": {
      "text/plain": [
       "(           date     open     high      low    close    volume\n",
       " 0    2023-12-01  72400.0  72500.0  71700.0  72000.0   9871284\n",
       " 1    2023-12-04  72800.0  72900.0  72400.0  72600.0  10229267\n",
       " 2    2023-12-05  72300.0  72400.0  71200.0  71200.0  12129682\n",
       " 3    2023-12-06  71800.0  72100.0  71600.0  71700.0   8123087\n",
       " 4    2023-12-07  71800.0  71900.0  71100.0  71500.0   8862017\n",
       " ..          ...      ...      ...      ...      ...       ...\n",
       " 349  2025-05-14  57500.0  57900.0  57000.0  57400.0  12468089\n",
       " 350  2025-05-15  57400.0  58600.0  57100.0  57300.0  13139736\n",
       " 351  2025-05-16  57400.0  57500.0  56700.0  56800.0  10385352\n",
       " 352  2025-05-19  56400.0  56400.0  55500.0  55800.0   9802105\n",
       " 353  2025-05-20  56200.0  56700.0  55700.0  55900.0   9080577\n",
       " \n",
       " [354 rows x 6 columns],\n",
       " None)"
      ]
     },
     "execution_count": 9,
     "metadata": {},
     "output_type": "execute_result"
    }
   ],
   "source": [
    "# 삼성전자 티커\n",
    "samsung = yf.Ticker(\"005930.KS\")\n",
    "\n",
    "# yfinance는 end 날짜를 포함하지 않으므로 다음 날을 end로 설정\n",
    "hist = samsung.history(start='2023-12-01', end='2025-05-21', auto_adjust=False)\n",
    "\n",
    "hist = hist.reset_index()\n",
    "\n",
    "hist.columns = hist.columns.str.lower()\n",
    "hist['date'] = pd.to_datetime(hist['date']).dt.date.astype(str)\n",
    "hist = hist[['date', 'open', 'high', 'low', 'close', 'volume']]\n",
    "\n",
    "hist.to_csv(f'{date_name}_stock_2.csv', index=False)\n",
    "\n",
    "hist, print(len(hist))"
   ]
  },
  {
   "cell_type": "code",
   "execution_count": 4,
   "id": "13f4bb62",
   "metadata": {},
   "outputs": [
    {
     "name": "stdout",
     "output_type": "stream",
     "text": [
      "Is weekend? False\n"
     ]
    },
    {
     "name": "stderr",
     "output_type": "stream",
     "text": [
      "$005930.KS: possibly delisted; no price data found  (1d 2024-01-01 -> 2024-01-02)\n"
     ]
    },
    {
     "data": {
      "text/html": [
       "<div>\n",
       "<style scoped>\n",
       "    .dataframe tbody tr th:only-of-type {\n",
       "        vertical-align: middle;\n",
       "    }\n",
       "\n",
       "    .dataframe tbody tr th {\n",
       "        vertical-align: top;\n",
       "    }\n",
       "\n",
       "    .dataframe thead th {\n",
       "        text-align: right;\n",
       "    }\n",
       "</style>\n",
       "<table border=\"1\" class=\"dataframe\">\n",
       "  <thead>\n",
       "    <tr style=\"text-align: right;\">\n",
       "      <th></th>\n",
       "      <th>date</th>\n",
       "      <th>open</th>\n",
       "      <th>high</th>\n",
       "      <th>low</th>\n",
       "      <th>close</th>\n",
       "      <th>volume</th>\n",
       "    </tr>\n",
       "  </thead>\n",
       "  <tbody>\n",
       "    <tr>\n",
       "      <th>0</th>\n",
       "      <td>2024-01-01</td>\n",
       "      <td>NaN</td>\n",
       "      <td>NaN</td>\n",
       "      <td>NaN</td>\n",
       "      <td>NaN</td>\n",
       "      <td>NaN</td>\n",
       "    </tr>\n",
       "  </tbody>\n",
       "</table>\n",
       "</div>"
      ],
      "text/plain": [
       "         date  open  high  low  close  volume\n",
       "0  2024-01-01   NaN   NaN  NaN    NaN     NaN"
      ]
     },
     "execution_count": 4,
     "metadata": {},
     "output_type": "execute_result"
    }
   ],
   "source": [
    "from curl_cffi import requests\n",
    "# session = requests.Session(impersonate=\"chrome\")\n",
    "\n",
    "# 조회 대상 날짜\n",
    "target_date = '2024-01-01'\n",
    "next_date = '2025-05-21'\n",
    "# next_date = (datetime.strptime(target_date, '%Y-%m-%d') + timedelta(days=1)).strftime('%Y-%m-%d')  \n",
    "\n",
    "# datetime 객체로 변환\n",
    "date_obj = datetime.strptime(target_date, '%Y-%m-%d')\n",
    "\n",
    "# weekday()는 월=0, ..., 일=6\n",
    "is_weekend = date_obj.weekday() >= 5  # 토(5), 일(6)\n",
    "print(f\"Is weekend? {is_weekend}\")  # True면 주말\n",
    "\n",
    "# 삼성전자 티커\n",
    "samsung = yf.Ticker(\"005930.KS\")\n",
    "\n",
    "# yfinance는 end 날짜를 포함하지 않으므로 다음 날을 end로 설정\n",
    "hist = samsung.history(start=target_date, end=next_date, auto_adjust=False)\n",
    "\n",
    "if is_weekend:\n",
    "    # 주말인 경우: 데이터 없음 처리\n",
    "    hist = pd.DataFrame([{\n",
    "        'date': target_date,\n",
    "        'open': np.nan,\n",
    "        'high': np.nan,\n",
    "        'low': np.nan,\n",
    "        'close': np.nan,\n",
    "        'volume': np.nan\n",
    "    }])\n",
    "else:\n",
    "    # 평일인 경우: yfinance로 실제 데이터 요청\n",
    "    next_date = (date_obj + timedelta(days=1)).strftime('%Y-%m-%d')\n",
    "    samsung = yf.Ticker(\"005930.KS\")\n",
    "    hist = samsung.history(start=target_date, end=next_date, auto_adjust=False)\n",
    "    \n",
    "    if not hist.empty:\n",
    "        hist = hist.reset_index()\n",
    "        hist.columns = hist.columns.str.lower()\n",
    "        hist['date'] = pd.to_datetime(hist['date']).dt.date.astype(str)\n",
    "        hist = hist[['date', 'open', 'high', 'low', 'close', 'volume']]\n",
    "    else:\n",
    "        # 거래일인데 데이터가 없을 경우 (ex. 공휴일)\n",
    "        hist = pd.DataFrame([{\n",
    "            'date': target_date,\n",
    "            'open': np.nan,\n",
    "            'high': np.nan,\n",
    "            'low': np.nan,\n",
    "            'close': np.nan,\n",
    "            'volume': np.nan\n",
    "        }])\n",
    "\n",
    "hist"
   ]
  },
  {
   "cell_type": "code",
   "execution_count": null,
   "id": "46b8aa97",
   "metadata": {},
   "outputs": [
    {
     "name": "stdout",
     "output_type": "stream",
     "text": [
      "250520\n"
     ]
    }
   ],
   "source": [
    "date_name = target_date.split('-')[0][2:] + target_date.split('-')[1] + target_date.split('-')[2]\n",
    "print(date_name)\n",
    "hist.to_csv(f'{date_name}_stock.csv', index=False)"
   ]
  },
  {
   "cell_type": "code",
   "execution_count": null,
   "id": "fd1b073f",
   "metadata": {},
   "outputs": [
    {
     "data": {
      "text/html": [
       "<div>\n",
       "<style scoped>\n",
       "    .dataframe tbody tr th:only-of-type {\n",
       "        vertical-align: middle;\n",
       "    }\n",
       "\n",
       "    .dataframe tbody tr th {\n",
       "        vertical-align: top;\n",
       "    }\n",
       "\n",
       "    .dataframe thead th {\n",
       "        text-align: right;\n",
       "    }\n",
       "</style>\n",
       "<table border=\"1\" class=\"dataframe\">\n",
       "  <thead>\n",
       "    <tr style=\"text-align: right;\">\n",
       "      <th></th>\n",
       "      <th>date</th>\n",
       "      <th>open</th>\n",
       "      <th>high</th>\n",
       "      <th>low</th>\n",
       "      <th>close</th>\n",
       "      <th>volume</th>\n",
       "    </tr>\n",
       "  </thead>\n",
       "  <tbody>\n",
       "    <tr>\n",
       "      <th>0</th>\n",
       "      <td>2025-05-20</td>\n",
       "      <td>56200.0</td>\n",
       "      <td>56700.0</td>\n",
       "      <td>55700.0</td>\n",
       "      <td>55900.0</td>\n",
       "      <td>9080577</td>\n",
       "    </tr>\n",
       "  </tbody>\n",
       "</table>\n",
       "</div>"
      ],
      "text/plain": [
       "         date     open     high      low    close   volume\n",
       "0  2025-05-20  56200.0  56700.0  55700.0  55900.0  9080577"
      ]
     },
     "execution_count": 26,
     "metadata": {},
     "output_type": "execute_result"
    }
   ],
   "source": [
    "tmp = pd.read_csv(f'/Users/taeheon/stock_price/data/{date_name}_stock.csv')\n",
    "\n",
    "tmp"
   ]
  },
  {
   "cell_type": "code",
   "execution_count": null,
   "id": "2bf041f3",
   "metadata": {},
   "outputs": [],
   "source": []
  }
 ],
 "metadata": {
  "kernelspec": {
   "display_name": "stock_price",
   "language": "python",
   "name": "python3"
  },
  "language_info": {
   "codemirror_mode": {
    "name": "ipython",
    "version": 3
   },
   "file_extension": ".py",
   "mimetype": "text/x-python",
   "name": "python",
   "nbconvert_exporter": "python",
   "pygments_lexer": "ipython3",
   "version": "3.8.20"
  }
 },
 "nbformat": 4,
 "nbformat_minor": 5
}
